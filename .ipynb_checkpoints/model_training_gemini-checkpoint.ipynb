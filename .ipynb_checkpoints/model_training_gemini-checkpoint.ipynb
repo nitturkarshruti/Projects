{
 "cells": [
  {
   "cell_type": "code",
   "execution_count": null,
   "id": "d1b6b78b",
   "metadata": {},
   "outputs": [],
   "source": [
    "import pandas as pd\n",
    "from sklearn.feature_extraction.text import TfidfVectorizer\n",
    "from sklearn.metrics.pairwise import cosine_similarity\n",
    "import joblib\n",
    "from google_gemini import GeminiClient\n",
    "\n",
    "# Initialize Gemini Client\n",
    "gemini_client = GeminiClient(api_key='YOUR_GEMINI_API_KEY')\n",
    "\n",
    "# Load job listing dataset\n",
    "df = pd.read_csv('job_data.csv')\n",
    "\n",
    "# Use Gemini for advanced text-based analysis on job descriptions and skills\n",
    "def gemini_similarity(skills, job_desc):\n",
    "    return gemini_client.compare_texts(skills, job_desc)\n",
    "\n",
    "# Update model training to use Gemini's NLP text matching\n",
    "df['similarity_score'] = df.apply(lambda row: gemini_similarity(row['skills_required'], row['job_description']), axis=1)\n",
    "\n",
    "# Vectorize the skills and descriptions\n",
    "vectorizer = TfidfVectorizer(stop_words='english')\n",
    "tfidf_matrix = vectorizer.fit_transform(df['skills_required'] + ' ' + df['job_description'])\n",
    "\n",
    "# Save the model\n",
    "joblib.dump(vectorizer, 'job_recommendation_model_gemini.pkl')\n"
   ]
  }
 ],
 "metadata": {
  "kernelspec": {
   "display_name": "Python 3 (ipykernel)",
   "language": "python",
   "name": "python3"
  },
  "language_info": {
   "codemirror_mode": {
    "name": "ipython",
    "version": 3
   },
   "file_extension": ".py",
   "mimetype": "text/x-python",
   "name": "python",
   "nbconvert_exporter": "python",
   "pygments_lexer": "ipython3",
   "version": "3.11.5"
  }
 },
 "nbformat": 4,
 "nbformat_minor": 5
}
